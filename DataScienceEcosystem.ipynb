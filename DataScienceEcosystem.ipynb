{
 "cells": [
  {
   "cell_type": "markdown",
   "id": "b7b26f56-0a9e-40b0-934d-841752f7ada3",
   "metadata": {},
   "source": [
    "# Data Science Tools and Ecosystem"
   ]
  },
  {
   "cell_type": "markdown",
   "id": "fd804237-dd0b-4a17-98f2-034df1349f24",
   "metadata": {},
   "source": [
    "## In this notebook, Data Science Tools and Ecosystem are summarized."
   ]
  },
  {
   "cell_type": "markdown",
   "id": "46bee5c5-1e0f-4d0d-bf98-eae54b971b12",
   "metadata": {},
   "source": [
    "**Objectives:**\n",
    "- List popular languages for Data Science\n",
    "- List commonly used libraries for Data Science\n",
    "- List Data Science Tools - Development environment open source tools\n",
    "- Example of evaluating arithmetic\n",
    "- Example of converting the time"
   ]
  },
  {
   "cell_type": "markdown",
   "id": "b54b521e-e3f8-465c-8820-b4ac72352d99",
   "metadata": {},
   "source": [
    "### Some of the popular languages that Data Scientists use are:\n",
    "1. Python\n",
    "2. R\n",
    "3. SQL\n",
    "4. Java\n",
    "5. Julia\n",
    "6. Scala\n",
    "7. C/C++\n",
    "8. JavaScript"
   ]
  },
  {
   "cell_type": "markdown",
   "id": "02c49af0-37e5-4015-b23e-1136942dec0f",
   "metadata": {},
   "source": [
    "### Some of the commonly used libraries used by Data Scientists include:\n",
    "1. Numpy\n",
    "2. Pandas\n",
    "3. Scikit-Learn\n",
    "4. Matplotlib\n",
    "5. Keras"
   ]
  },
  {
   "cell_type": "markdown",
   "id": "4f8742b4-73b4-4ae5-b2bc-848c4a32a2ca",
   "metadata": {},
   "source": [
    "|  Data Science Tools  |\n",
    "|  ------------------  |\n",
    "|      R Studio        |\n",
    "|   Jupyter Notebook   |\n",
    "|    Apache Zeppelin   |"
   ]
  },
  {
   "cell_type": "markdown",
   "id": "8154ded2-4109-4dda-b52d-387a077b251b",
   "metadata": {},
   "source": [
    "### Below are a few examples of evaluating arithmetic expressions in Python"
   ]
  },
  {
   "cell_type": "code",
   "execution_count": 15,
   "id": "0278577f-2c59-4c37-a96e-c68d1da91b14",
   "metadata": {},
   "outputs": [
    {
     "data": {
      "text/plain": [
       "17"
      ]
     },
     "execution_count": 15,
     "metadata": {},
     "output_type": "execute_result"
    }
   ],
   "source": [
    "# This a simple arithmetic expression to mutiply then add integers\n",
    "(3*4)+5"
   ]
  },
  {
   "cell_type": "code",
   "execution_count": 32,
   "id": "481af746-68f4-411a-bb9d-eac5162e6827",
   "metadata": {},
   "outputs": [
    {
     "data": {
      "text/plain": [
       "3"
      ]
     },
     "execution_count": 32,
     "metadata": {},
     "output_type": "execute_result"
    }
   ],
   "source": [
    "# This will convert 200 minutes to hours by diving by 60\n",
    "200 // 60"
   ]
  },
  {
   "cell_type": "markdown",
   "id": "17e57874-461c-425c-a9a8-5fa87b74b1d5",
   "metadata": {},
   "source": [
    "## Author\n",
    "Shafira Mayora Handriyudha"
   ]
  },
  {
   "cell_type": "code",
   "execution_count": null,
   "id": "06af5391-9c98-4a63-8642-0be4f6c2a1d6",
   "metadata": {},
   "outputs": [],
   "source": []
  }
 ],
 "metadata": {
  "kernelspec": {
   "display_name": "Python [conda env:base] *",
   "language": "python",
   "name": "conda-base-py"
  },
  "language_info": {
   "codemirror_mode": {
    "name": "ipython",
    "version": 3
   },
   "file_extension": ".py",
   "mimetype": "text/x-python",
   "name": "python",
   "nbconvert_exporter": "python",
   "pygments_lexer": "ipython3",
   "version": "3.12.7"
  }
 },
 "nbformat": 4,
 "nbformat_minor": 5
}
